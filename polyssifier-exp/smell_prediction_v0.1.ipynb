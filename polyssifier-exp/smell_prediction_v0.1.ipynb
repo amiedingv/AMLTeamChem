{
 "cells": [
  {
   "cell_type": "markdown",
   "metadata": {},
   "source": [
    "# Learning to Smell with Polyssifier"
   ]
  },
  {
   "cell_type": "markdown",
   "metadata": {},
   "source": [
    "Problem introduction: https://www.aicrowd.com/challenges/learning-to-smell\n",
    "\n",
    "Author: Huaping Ding\n",
    "\n",
    "This notebook will show all experiments on produce the best models with classic ML classifers via Polyssifier. \n",
    "The step involves: \n",
    "* data loading\n",
    "* feature engineering: use thousands of molecular descriptors as features\n",
    "* data spliting\n",
    "* model building and optimization\n",
    "* prediction on test set\n",
    "\n",
    "Requirements:\n",
    "* Install conda\n",
    "* Install rdkit, mordred: `conda install -c rdkit -c mordred-descriptor mordred`\n",
    "* Install polyssifier: `pip install polyssifier`\n"
   ]
  },
  {
   "cell_type": "code",
   "execution_count": 1,
   "metadata": {},
   "outputs": [
    {
     "name": "stderr",
     "output_type": "stream",
     "text": [
      "/Users/amieding/miniconda3/lib/python3.7/site-packages/sklearn/externals/joblib/__init__.py:15: DeprecationWarning: sklearn.externals.joblib is deprecated in 0.21 and will be removed in 0.23. Please import this functionality directly from joblib, which can be installed with: pip install joblib. If this warning is raised when loading pickled models, you may need to re-serialize those models with scikit-learn 0.21+.\n",
      "  warnings.warn(msg, category=DeprecationWarning)\n"
     ]
    }
   ],
   "source": [
    "import warnings\n",
    "warnings.filterwarnings('ignore')\n",
    "\n",
    "import pandas as pd\n",
    "import matplotlib.pyplot as plt\n",
    "from rdkit import Chem\n",
    "from mordred import Calculator, descriptors\n",
    "from polyssifier import poly\n",
    "import numpy as np"
   ]
  },
  {
   "cell_type": "code",
   "execution_count": 2,
   "metadata": {},
   "outputs": [
    {
     "data": {
      "text/html": [
       "<div>\n",
       "<style scoped>\n",
       "    .dataframe tbody tr th:only-of-type {\n",
       "        vertical-align: middle;\n",
       "    }\n",
       "\n",
       "    .dataframe tbody tr th {\n",
       "        vertical-align: top;\n",
       "    }\n",
       "\n",
       "    .dataframe thead th {\n",
       "        text-align: right;\n",
       "    }\n",
       "</style>\n",
       "<table border=\"1\" class=\"dataframe\">\n",
       "  <thead>\n",
       "    <tr style=\"text-align: right;\">\n",
       "      <th></th>\n",
       "      <th>SMILES</th>\n",
       "      <th>SENTENCE</th>\n",
       "      <th>SENTENCE_ARRAY</th>\n",
       "    </tr>\n",
       "  </thead>\n",
       "  <tbody>\n",
       "    <tr>\n",
       "      <th>0</th>\n",
       "      <td>C/C=C/C(=O)C1CCC(C=C1C)(C)C</td>\n",
       "      <td>fruity,rose</td>\n",
       "      <td>[fruity, rose]</td>\n",
       "    </tr>\n",
       "    <tr>\n",
       "      <th>1</th>\n",
       "      <td>COC(=O)OC</td>\n",
       "      <td>fresh,ethereal,fruity</td>\n",
       "      <td>[fresh, ethereal, fruity]</td>\n",
       "    </tr>\n",
       "    <tr>\n",
       "      <th>2</th>\n",
       "      <td>Cc1cc2c([nH]1)cccc2</td>\n",
       "      <td>resinous,animalic</td>\n",
       "      <td>[resinous, animalic]</td>\n",
       "    </tr>\n",
       "    <tr>\n",
       "      <th>3</th>\n",
       "      <td>C1CCCCCCCC(=O)CCCCCCC1</td>\n",
       "      <td>powdery,musk,animalic</td>\n",
       "      <td>[powdery, musk, animalic]</td>\n",
       "    </tr>\n",
       "    <tr>\n",
       "      <th>4</th>\n",
       "      <td>CC(CC(=O)OC1CC2C(C1(C)CC2)(C)C)C</td>\n",
       "      <td>coniferous,camphor,fruity</td>\n",
       "      <td>[coniferous, camphor, fruity]</td>\n",
       "    </tr>\n",
       "    <tr>\n",
       "      <th>5</th>\n",
       "      <td>CCC[C@H](CCO)SC</td>\n",
       "      <td>tropicalfruit</td>\n",
       "      <td>[tropicalfruit]</td>\n",
       "    </tr>\n",
       "    <tr>\n",
       "      <th>6</th>\n",
       "      <td>CC(C)C(=O)OCc1ccco1</td>\n",
       "      <td>fruity,coffee</td>\n",
       "      <td>[fruity, coffee]</td>\n",
       "    </tr>\n",
       "    <tr>\n",
       "      <th>7</th>\n",
       "      <td>OC[C@H]1[C@H]2CC[C@H]3[C@@]1(C)CCCC([C@@H]23)(C)C</td>\n",
       "      <td>woody</td>\n",
       "      <td>[woody]</td>\n",
       "    </tr>\n",
       "    <tr>\n",
       "      <th>8</th>\n",
       "      <td>CCc1ccc(cc1)CC(C=O)(C)C</td>\n",
       "      <td>clean,fresh</td>\n",
       "      <td>[clean, fresh]</td>\n",
       "    </tr>\n",
       "  </tbody>\n",
       "</table>\n",
       "</div>"
      ],
      "text/plain": [
       "                                              SMILES  \\\n",
       "0                        C/C=C/C(=O)C1CCC(C=C1C)(C)C   \n",
       "1                                          COC(=O)OC   \n",
       "2                                Cc1cc2c([nH]1)cccc2   \n",
       "3                             C1CCCCCCCC(=O)CCCCCCC1   \n",
       "4                   CC(CC(=O)OC1CC2C(C1(C)CC2)(C)C)C   \n",
       "5                                    CCC[C@H](CCO)SC   \n",
       "6                                CC(C)C(=O)OCc1ccco1   \n",
       "7  OC[C@H]1[C@H]2CC[C@H]3[C@@]1(C)CCCC([C@@H]23)(C)C   \n",
       "8                            CCc1ccc(cc1)CC(C=O)(C)C   \n",
       "\n",
       "                    SENTENCE                 SENTENCE_ARRAY  \n",
       "0                fruity,rose                 [fruity, rose]  \n",
       "1      fresh,ethereal,fruity      [fresh, ethereal, fruity]  \n",
       "2          resinous,animalic           [resinous, animalic]  \n",
       "3      powdery,musk,animalic      [powdery, musk, animalic]  \n",
       "4  coniferous,camphor,fruity  [coniferous, camphor, fruity]  \n",
       "5              tropicalfruit                [tropicalfruit]  \n",
       "6              fruity,coffee               [fruity, coffee]  \n",
       "7                      woody                        [woody]  \n",
       "8                clean,fresh                 [clean, fresh]  "
      ]
     },
     "execution_count": 2,
     "metadata": {},
     "output_type": "execute_result"
    }
   ],
   "source": [
    "raw_df = pd.read_csv('./dataset/train.csv')\n",
    "raw_df['SENTENCE_ARRAY'] = raw_df['SENTENCE'].apply(lambda x: x.split(','))\n",
    "raw_df.head(9)"
   ]
  },
  {
   "cell_type": "markdown",
   "metadata": {},
   "source": [
    "#### Create one-hot encoding for the labels"
   ]
  },
  {
   "cell_type": "code",
   "execution_count": 3,
   "metadata": {
    "scrolled": true
   },
   "outputs": [
    {
     "data": {
      "text/html": [
       "<div>\n",
       "<style scoped>\n",
       "    .dataframe tbody tr th:only-of-type {\n",
       "        vertical-align: middle;\n",
       "    }\n",
       "\n",
       "    .dataframe tbody tr th {\n",
       "        vertical-align: top;\n",
       "    }\n",
       "\n",
       "    .dataframe thead th {\n",
       "        text-align: right;\n",
       "    }\n",
       "</style>\n",
       "<table border=\"1\" class=\"dataframe\">\n",
       "  <thead>\n",
       "    <tr style=\"text-align: right;\">\n",
       "      <th></th>\n",
       "      <th>SMELL</th>\n",
       "    </tr>\n",
       "  </thead>\n",
       "  <tbody>\n",
       "    <tr>\n",
       "      <th>0</th>\n",
       "      <td>alcoholic</td>\n",
       "    </tr>\n",
       "    <tr>\n",
       "      <th>1</th>\n",
       "      <td>aldehydic</td>\n",
       "    </tr>\n",
       "    <tr>\n",
       "      <th>2</th>\n",
       "      <td>alliaceous</td>\n",
       "    </tr>\n",
       "  </tbody>\n",
       "</table>\n",
       "</div>"
      ],
      "text/plain": [
       "        SMELL\n",
       "0   alcoholic\n",
       "1   aldehydic\n",
       "2  alliaceous"
      ]
     },
     "execution_count": 3,
     "metadata": {},
     "output_type": "execute_result"
    }
   ],
   "source": [
    "vocabulary = pd.read_csv('./dataset/vocabulary.txt', header=None, names=['SMELL'])\n",
    "vocabulary.head(3)"
   ]
  },
  {
   "cell_type": "code",
   "execution_count": 4,
   "metadata": {
    "scrolled": false
   },
   "outputs": [
    {
     "data": {
      "text/html": [
       "<div>\n",
       "<style scoped>\n",
       "    .dataframe tbody tr th:only-of-type {\n",
       "        vertical-align: middle;\n",
       "    }\n",
       "\n",
       "    .dataframe tbody tr th {\n",
       "        vertical-align: top;\n",
       "    }\n",
       "\n",
       "    .dataframe thead th {\n",
       "        text-align: right;\n",
       "    }\n",
       "</style>\n",
       "<table border=\"1\" class=\"dataframe\">\n",
       "  <thead>\n",
       "    <tr style=\"text-align: right;\">\n",
       "      <th></th>\n",
       "      <th>SMILES</th>\n",
       "      <th>SENTENCE</th>\n",
       "      <th>SENTENCE_ARRAY</th>\n",
       "      <th>class_0</th>\n",
       "      <th>class_1</th>\n",
       "      <th>class_2</th>\n",
       "      <th>class_3</th>\n",
       "      <th>class_4</th>\n",
       "      <th>class_5</th>\n",
       "      <th>class_6</th>\n",
       "      <th>...</th>\n",
       "      <th>class_99</th>\n",
       "      <th>class_100</th>\n",
       "      <th>class_101</th>\n",
       "      <th>class_102</th>\n",
       "      <th>class_103</th>\n",
       "      <th>class_104</th>\n",
       "      <th>class_105</th>\n",
       "      <th>class_106</th>\n",
       "      <th>class_107</th>\n",
       "      <th>class_108</th>\n",
       "    </tr>\n",
       "  </thead>\n",
       "  <tbody>\n",
       "    <tr>\n",
       "      <th>0</th>\n",
       "      <td>C/C=C/C(=O)C1CCC(C=C1C)(C)C</td>\n",
       "      <td>fruity,rose</td>\n",
       "      <td>[fruity, rose]</td>\n",
       "      <td>0</td>\n",
       "      <td>0</td>\n",
       "      <td>0</td>\n",
       "      <td>0</td>\n",
       "      <td>0</td>\n",
       "      <td>0</td>\n",
       "      <td>0</td>\n",
       "      <td>...</td>\n",
       "      <td>0</td>\n",
       "      <td>0</td>\n",
       "      <td>0</td>\n",
       "      <td>0</td>\n",
       "      <td>0</td>\n",
       "      <td>0</td>\n",
       "      <td>0</td>\n",
       "      <td>0</td>\n",
       "      <td>0</td>\n",
       "      <td>0</td>\n",
       "    </tr>\n",
       "    <tr>\n",
       "      <th>1</th>\n",
       "      <td>COC(=O)OC</td>\n",
       "      <td>fresh,ethereal,fruity</td>\n",
       "      <td>[fresh, ethereal, fruity]</td>\n",
       "      <td>0</td>\n",
       "      <td>0</td>\n",
       "      <td>0</td>\n",
       "      <td>0</td>\n",
       "      <td>0</td>\n",
       "      <td>0</td>\n",
       "      <td>0</td>\n",
       "      <td>...</td>\n",
       "      <td>0</td>\n",
       "      <td>0</td>\n",
       "      <td>0</td>\n",
       "      <td>0</td>\n",
       "      <td>0</td>\n",
       "      <td>0</td>\n",
       "      <td>0</td>\n",
       "      <td>0</td>\n",
       "      <td>0</td>\n",
       "      <td>0</td>\n",
       "    </tr>\n",
       "    <tr>\n",
       "      <th>2</th>\n",
       "      <td>Cc1cc2c([nH]1)cccc2</td>\n",
       "      <td>resinous,animalic</td>\n",
       "      <td>[resinous, animalic]</td>\n",
       "      <td>0</td>\n",
       "      <td>0</td>\n",
       "      <td>0</td>\n",
       "      <td>0</td>\n",
       "      <td>0</td>\n",
       "      <td>0</td>\n",
       "      <td>0</td>\n",
       "      <td>...</td>\n",
       "      <td>0</td>\n",
       "      <td>0</td>\n",
       "      <td>0</td>\n",
       "      <td>0</td>\n",
       "      <td>0</td>\n",
       "      <td>0</td>\n",
       "      <td>0</td>\n",
       "      <td>0</td>\n",
       "      <td>0</td>\n",
       "      <td>0</td>\n",
       "    </tr>\n",
       "    <tr>\n",
       "      <th>3</th>\n",
       "      <td>C1CCCCCCCC(=O)CCCCCCC1</td>\n",
       "      <td>powdery,musk,animalic</td>\n",
       "      <td>[powdery, musk, animalic]</td>\n",
       "      <td>0</td>\n",
       "      <td>0</td>\n",
       "      <td>0</td>\n",
       "      <td>0</td>\n",
       "      <td>0</td>\n",
       "      <td>0</td>\n",
       "      <td>0</td>\n",
       "      <td>...</td>\n",
       "      <td>0</td>\n",
       "      <td>0</td>\n",
       "      <td>0</td>\n",
       "      <td>0</td>\n",
       "      <td>0</td>\n",
       "      <td>0</td>\n",
       "      <td>0</td>\n",
       "      <td>0</td>\n",
       "      <td>0</td>\n",
       "      <td>0</td>\n",
       "    </tr>\n",
       "    <tr>\n",
       "      <th>4</th>\n",
       "      <td>CC(CC(=O)OC1CC2C(C1(C)CC2)(C)C)C</td>\n",
       "      <td>coniferous,camphor,fruity</td>\n",
       "      <td>[coniferous, camphor, fruity]</td>\n",
       "      <td>0</td>\n",
       "      <td>0</td>\n",
       "      <td>0</td>\n",
       "      <td>0</td>\n",
       "      <td>0</td>\n",
       "      <td>0</td>\n",
       "      <td>0</td>\n",
       "      <td>...</td>\n",
       "      <td>0</td>\n",
       "      <td>0</td>\n",
       "      <td>0</td>\n",
       "      <td>0</td>\n",
       "      <td>0</td>\n",
       "      <td>0</td>\n",
       "      <td>0</td>\n",
       "      <td>0</td>\n",
       "      <td>0</td>\n",
       "      <td>0</td>\n",
       "    </tr>\n",
       "  </tbody>\n",
       "</table>\n",
       "<p>5 rows × 112 columns</p>\n",
       "</div>"
      ],
      "text/plain": [
       "                             SMILES                   SENTENCE  \\\n",
       "0       C/C=C/C(=O)C1CCC(C=C1C)(C)C                fruity,rose   \n",
       "1                         COC(=O)OC      fresh,ethereal,fruity   \n",
       "2               Cc1cc2c([nH]1)cccc2          resinous,animalic   \n",
       "3            C1CCCCCCCC(=O)CCCCCCC1      powdery,musk,animalic   \n",
       "4  CC(CC(=O)OC1CC2C(C1(C)CC2)(C)C)C  coniferous,camphor,fruity   \n",
       "\n",
       "                  SENTENCE_ARRAY  class_0  class_1  class_2  class_3  class_4  \\\n",
       "0                 [fruity, rose]        0        0        0        0        0   \n",
       "1      [fresh, ethereal, fruity]        0        0        0        0        0   \n",
       "2           [resinous, animalic]        0        0        0        0        0   \n",
       "3      [powdery, musk, animalic]        0        0        0        0        0   \n",
       "4  [coniferous, camphor, fruity]        0        0        0        0        0   \n",
       "\n",
       "   class_5  class_6  ...  class_99  class_100  class_101  class_102  \\\n",
       "0        0        0  ...         0          0          0          0   \n",
       "1        0        0  ...         0          0          0          0   \n",
       "2        0        0  ...         0          0          0          0   \n",
       "3        0        0  ...         0          0          0          0   \n",
       "4        0        0  ...         0          0          0          0   \n",
       "\n",
       "   class_103  class_104  class_105  class_106  class_107  class_108  \n",
       "0          0          0          0          0          0          0  \n",
       "1          0          0          0          0          0          0  \n",
       "2          0          0          0          0          0          0  \n",
       "3          0          0          0          0          0          0  \n",
       "4          0          0          0          0          0          0  \n",
       "\n",
       "[5 rows x 112 columns]"
      ]
     },
     "execution_count": 4,
     "metadata": {},
     "output_type": "execute_result"
    }
   ],
   "source": [
    "# vocal_dict = { row['SMELL']: i for i, row in vocabulary.iterrows()}\n",
    "\n",
    "for idx, row in vocabulary.iterrows():\n",
    "    class_name = \"class_\" + str(idx)\n",
    "    raw_df[class_name] = raw_df['SENTENCE_ARRAY'].apply(lambda x: 1 if row['SMELL'] in x else 0)\n",
    "\n",
    "raw_df.head()"
   ]
  },
  {
   "cell_type": "markdown",
   "metadata": {},
   "source": [
    "#### Feature engineering with molecular descriptors"
   ]
  },
  {
   "cell_type": "code",
   "execution_count": 5,
   "metadata": {
    "scrolled": true
   },
   "outputs": [
    {
     "data": {
      "text/plain": [
       "0                     C/C=C/C(=O)C1CCC(C=C1C)(C)C\n",
       "1                                       COC(=O)OC\n",
       "2                             Cc1cc2c([nH]1)cccc2\n",
       "3                          C1CCCCCCCC(=O)CCCCCCC1\n",
       "4                CC(CC(=O)OC1CC2C(C1(C)CC2)(C)C)C\n",
       "                          ...                    \n",
       "4311    CCOC(=O)[C@]12CCC[C@@H]2[C@H]2C[C@@H]1CC2\n",
       "4312                       CC1(O)C2(C)CCCC1(C)CC2\n",
       "4313                       C1CC(=N[C@@H]1C(=O)O)O\n",
       "4314                            CCCc1c(C)ncc(C)n1\n",
       "4315                          COC1C=CC2C1C1CCC2C1\n",
       "Name: SMILES, Length: 4316, dtype: object"
      ]
     },
     "execution_count": 5,
     "metadata": {},
     "output_type": "execute_result"
    }
   ],
   "source": [
    "raw_df['SMILES']"
   ]
  },
  {
   "cell_type": "code",
   "execution_count": 6,
   "metadata": {},
   "outputs": [
    {
     "name": "stdout",
     "output_type": "stream",
     "text": [
      "number of molecular descriptors:  1613\n",
      "Top 10 descriptors:  (mordred.ABCIndex.ABCIndex(), mordred.ABCIndex.ABCGGIndex(), mordred.AcidBase.AcidicGroupCount(), mordred.AcidBase.BasicGroupCount(), mordred.AdjacencyMatrix.AdjacencyMatrix('SpAbs'), mordred.AdjacencyMatrix.AdjacencyMatrix('SpMax'), mordred.AdjacencyMatrix.AdjacencyMatrix('SpDiam'), mordred.AdjacencyMatrix.AdjacencyMatrix('SpAD'), mordred.AdjacencyMatrix.AdjacencyMatrix('SpMAD'), mordred.AdjacencyMatrix.AdjacencyMatrix('LogEE'))\n"
     ]
    }
   ],
   "source": [
    "calc = Calculator(descriptors, ignore_3D=True)\n",
    "print(\"number of molecular descriptors: \", len(calc.descriptors))\n",
    "print(\"Top 10 descriptors: \", calc.descriptors[0:10])"
   ]
  },
  {
   "cell_type": "code",
   "execution_count": 7,
   "metadata": {
    "scrolled": false
   },
   "outputs": [],
   "source": [
    "mol = Chem.MolFromSmiles(raw_df.iloc[0]['SMILES'])\n",
    "#res = calc(mol)"
   ]
  },
  {
   "cell_type": "code",
   "execution_count": 8,
   "metadata": {
    "scrolled": true
   },
   "outputs": [
    {
     "name": "stderr",
     "output_type": "stream",
     "text": [
      "100%|██████████| 4316/4316 [05:32<00:00, 12.15it/s]\n"
     ]
    },
    {
     "data": {
      "text/html": [
       "<div>\n",
       "<style scoped>\n",
       "    .dataframe tbody tr th:only-of-type {\n",
       "        vertical-align: middle;\n",
       "    }\n",
       "\n",
       "    .dataframe tbody tr th {\n",
       "        vertical-align: top;\n",
       "    }\n",
       "\n",
       "    .dataframe thead th {\n",
       "        text-align: right;\n",
       "    }\n",
       "</style>\n",
       "<table border=\"1\" class=\"dataframe\">\n",
       "  <thead>\n",
       "    <tr style=\"text-align: right;\">\n",
       "      <th></th>\n",
       "      <th>ABC</th>\n",
       "      <th>ABCGG</th>\n",
       "      <th>nAcid</th>\n",
       "      <th>nBase</th>\n",
       "      <th>SpAbs_A</th>\n",
       "      <th>SpMax_A</th>\n",
       "      <th>SpDiam_A</th>\n",
       "      <th>SpAD_A</th>\n",
       "      <th>SpMAD_A</th>\n",
       "      <th>LogEE_A</th>\n",
       "      <th>...</th>\n",
       "      <th>SRW10</th>\n",
       "      <th>TSRW10</th>\n",
       "      <th>MW</th>\n",
       "      <th>AMW</th>\n",
       "      <th>WPath</th>\n",
       "      <th>WPol</th>\n",
       "      <th>Zagreb1</th>\n",
       "      <th>Zagreb2</th>\n",
       "      <th>mZagreb1</th>\n",
       "      <th>mZagreb2</th>\n",
       "    </tr>\n",
       "  </thead>\n",
       "  <tbody>\n",
       "    <tr>\n",
       "      <th>0</th>\n",
       "      <td>10.355232</td>\n",
       "      <td>9.695963</td>\n",
       "      <td>0</td>\n",
       "      <td>0</td>\n",
       "      <td>15.9217</td>\n",
       "      <td>2.37344</td>\n",
       "      <td>4.74689</td>\n",
       "      <td>15.9217</td>\n",
       "      <td>1.13727</td>\n",
       "      <td>3.53381</td>\n",
       "      <td>...</td>\n",
       "      <td>9.474165</td>\n",
       "      <td>45.559427</td>\n",
       "      <td>192.151415</td>\n",
       "      <td>5.651512</td>\n",
       "      <td>305</td>\n",
       "      <td>19</td>\n",
       "      <td>68.0</td>\n",
       "      <td>76.0</td>\n",
       "      <td>6.64583</td>\n",
       "      <td>3.138889</td>\n",
       "    </tr>\n",
       "    <tr>\n",
       "      <th>1</th>\n",
       "      <td>3.644924</td>\n",
       "      <td>4.097495</td>\n",
       "      <td>0</td>\n",
       "      <td>0</td>\n",
       "      <td>6.89898</td>\n",
       "      <td>1.93185</td>\n",
       "      <td>3.8637</td>\n",
       "      <td>6.89898</td>\n",
       "      <td>1.14983</td>\n",
       "      <td>2.5958</td>\n",
       "      <td>...</td>\n",
       "      <td>7.280008</td>\n",
       "      <td>29.753427</td>\n",
       "      <td>90.031694</td>\n",
       "      <td>7.502641</td>\n",
       "      <td>31</td>\n",
       "      <td>4</td>\n",
       "      <td>20.0</td>\n",
       "      <td>19.0</td>\n",
       "      <td>3.61111</td>\n",
       "      <td>1.666667</td>\n",
       "    </tr>\n",
       "    <tr>\n",
       "      <th>2</th>\n",
       "      <td>7.847124</td>\n",
       "      <td>7.174621</td>\n",
       "      <td>0</td>\n",
       "      <td>0</td>\n",
       "      <td>13.043</td>\n",
       "      <td>2.36361</td>\n",
       "      <td>4.55714</td>\n",
       "      <td>13.043</td>\n",
       "      <td>1.3043</td>\n",
       "      <td>3.26103</td>\n",
       "      <td>...</td>\n",
       "      <td>9.085117</td>\n",
       "      <td>53.938362</td>\n",
       "      <td>131.073499</td>\n",
       "      <td>6.898605</td>\n",
       "      <td>108</td>\n",
       "      <td>11</td>\n",
       "      <td>52.0</td>\n",
       "      <td>60.0</td>\n",
       "      <td>2.83333</td>\n",
       "      <td>2.194444</td>\n",
       "    </tr>\n",
       "    <tr>\n",
       "      <th>3</th>\n",
       "      <td>12.130205</td>\n",
       "      <td>8.271213</td>\n",
       "      <td>0</td>\n",
       "      <td>0</td>\n",
       "      <td>21.3099</td>\n",
       "      <td>2.06235</td>\n",
       "      <td>4.12469</td>\n",
       "      <td>21.3099</td>\n",
       "      <td>1.25352</td>\n",
       "      <td>3.68802</td>\n",
       "      <td>...</td>\n",
       "      <td>8.551595</td>\n",
       "      <td>46.913417</td>\n",
       "      <td>238.229666</td>\n",
       "      <td>5.068716</td>\n",
       "      <td>592</td>\n",
       "      <td>18</td>\n",
       "      <td>70.0</td>\n",
       "      <td>71.0</td>\n",
       "      <td>4.86111</td>\n",
       "      <td>4.166667</td>\n",
       "    </tr>\n",
       "    <tr>\n",
       "      <th>4</th>\n",
       "      <td>13.314894</td>\n",
       "      <td>12.642147</td>\n",
       "      <td>0</td>\n",
       "      <td>0</td>\n",
       "      <td>20.1051</td>\n",
       "      <td>2.63153</td>\n",
       "      <td>4.9989</td>\n",
       "      <td>20.1051</td>\n",
       "      <td>1.18265</td>\n",
       "      <td>3.77866</td>\n",
       "      <td>...</td>\n",
       "      <td>10.159950</td>\n",
       "      <td>67.546910</td>\n",
       "      <td>238.193280</td>\n",
       "      <td>5.539379</td>\n",
       "      <td>505</td>\n",
       "      <td>27</td>\n",
       "      <td>94.0</td>\n",
       "      <td>115.0</td>\n",
       "      <td>7.81944</td>\n",
       "      <td>3.520833</td>\n",
       "    </tr>\n",
       "  </tbody>\n",
       "</table>\n",
       "<p>5 rows × 1613 columns</p>\n",
       "</div>"
      ],
      "text/plain": [
       "         ABC      ABCGG  nAcid  nBase  SpAbs_A  SpMax_A SpDiam_A   SpAD_A  \\\n",
       "0  10.355232   9.695963      0      0  15.9217  2.37344  4.74689  15.9217   \n",
       "1   3.644924   4.097495      0      0  6.89898  1.93185   3.8637  6.89898   \n",
       "2   7.847124   7.174621      0      0   13.043  2.36361  4.55714   13.043   \n",
       "3  12.130205   8.271213      0      0  21.3099  2.06235  4.12469  21.3099   \n",
       "4  13.314894  12.642147      0      0  20.1051  2.63153   4.9989  20.1051   \n",
       "\n",
       "   SpMAD_A  LogEE_A  ...      SRW10     TSRW10          MW       AMW WPath  \\\n",
       "0  1.13727  3.53381  ...   9.474165  45.559427  192.151415  5.651512   305   \n",
       "1  1.14983   2.5958  ...   7.280008  29.753427   90.031694  7.502641    31   \n",
       "2   1.3043  3.26103  ...   9.085117  53.938362  131.073499  6.898605   108   \n",
       "3  1.25352  3.68802  ...   8.551595  46.913417  238.229666  5.068716   592   \n",
       "4  1.18265  3.77866  ...  10.159950  67.546910  238.193280  5.539379   505   \n",
       "\n",
       "  WPol  Zagreb1  Zagreb2  mZagreb1  mZagreb2  \n",
       "0   19     68.0     76.0   6.64583  3.138889  \n",
       "1    4     20.0     19.0   3.61111  1.666667  \n",
       "2   11     52.0     60.0   2.83333  2.194444  \n",
       "3   18     70.0     71.0   4.86111  4.166667  \n",
       "4   27     94.0    115.0   7.81944  3.520833  \n",
       "\n",
       "[5 rows x 1613 columns]"
      ]
     },
     "execution_count": 8,
     "metadata": {},
     "output_type": "execute_result"
    }
   ],
   "source": [
    "# calculate multiple molecules\n",
    "raw_mols = [Chem.MolFromSmiles(smi) for smi in raw_df['SMILES']]\n",
    "\n",
    "mols_desc_df = calc.pandas(raw_mols)\n",
    "mols_desc_df.head()"
   ]
  },
  {
   "cell_type": "code",
   "execution_count": null,
   "metadata": {
    "scrolled": true
   },
   "outputs": [],
   "source": [
    "full_info_df = pd.concat([raw_df, mols_desc_df], axis=1)\n",
    "full_info_df.head()"
   ]
  },
  {
   "cell_type": "code",
   "execution_count": null,
   "metadata": {},
   "outputs": [],
   "source": [
    "output_file = './dataset/train-data-with-class-and-descriptors-v2.csv'\n",
    "full_info_df.to_csv(output_file, index=False)"
   ]
  },
  {
   "cell_type": "markdown",
   "metadata": {},
   "source": [
    "#### Clean dataframe to start data spliting and model training"
   ]
  },
  {
   "cell_type": "code",
   "execution_count": null,
   "metadata": {},
   "outputs": [],
   "source": [
    "full_info_df.columns"
   ]
  },
  {
   "cell_type": "code",
   "execution_count": null,
   "metadata": {
    "scrolled": true
   },
   "outputs": [],
   "source": [
    "feature_names = full_info_df.columns[-len(calc.descriptors):]\n",
    "raw_data_df = full_info_df[feature_names]\n",
    "raw_data_df.head()"
   ]
  },
  {
   "cell_type": "code",
   "execution_count": null,
   "metadata": {
    "scrolled": true
   },
   "outputs": [],
   "source": [
    "label_names = full_info_df.columns[3:vocabulary.shape[0]+3]\n",
    "raw_label_df = full_info_df[label_names]\n",
    "raw_label_df.head()"
   ]
  },
  {
   "cell_type": "markdown",
   "metadata": {},
   "source": [
    "### Training model with Polyssifier "
   ]
  },
  {
   "cell_type": "code",
   "execution_count": null,
   "metadata": {},
   "outputs": [],
   "source": [
    "np.unique(raw_label_df['class_1'].values)"
   ]
  },
  {
   "cell_type": "code",
   "execution_count": null,
   "metadata": {
    "scrolled": false
   },
   "outputs": [],
   "source": [
    "data = raw_data_df.values\n",
    "label = raw_label_df['class_10'].values\n",
    "\n",
    "print(data.shape)\n",
    "print(label.shape)\n",
    "\n",
    "report = poly(data,label, n_folds=3, verbose=True, save=False, scale=True,\n",
    "              feature_selection=False, scoring='auc', concurrency=5)\n",
    "report.plot_scores()"
   ]
  },
  {
   "cell_type": "code",
   "execution_count": null,
   "metadata": {},
   "outputs": [],
   "source": [
    "report = poly(data,label, n_folds=3, verbose=True, save=False, scale=True,\n",
    "              feature_selection=False, scoring='auc', concurrency=1)"
   ]
  },
  {
   "cell_type": "code",
   "execution_count": null,
   "metadata": {},
   "outputs": [],
   "source": []
  }
 ],
 "metadata": {
  "kernelspec": {
   "display_name": "Python 3",
   "language": "python",
   "name": "python3"
  },
  "language_info": {
   "codemirror_mode": {
    "name": "ipython",
    "version": 3
   },
   "file_extension": ".py",
   "mimetype": "text/x-python",
   "name": "python",
   "nbconvert_exporter": "python",
   "pygments_lexer": "ipython3",
   "version": "3.7.3"
  }
 },
 "nbformat": 4,
 "nbformat_minor": 4
}
